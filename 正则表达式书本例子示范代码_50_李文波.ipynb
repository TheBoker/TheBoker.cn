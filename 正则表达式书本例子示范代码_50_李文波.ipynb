{
 "cells": [
  {
   "cell_type": "code",
   "execution_count": 4,
   "metadata": {},
   "outputs": [
    {
     "name": "stdout",
     "output_type": "stream",
     "text": [
      "41\n",
      "<re.Match object; span=(0, 25), match='Hello 123 4567 World_This'>\n",
      "Hello 123 4567 World_This\n",
      "(0, 25)\n"
     ]
    }
   ],
   "source": [
    "#match 方法\n",
    "\n",
    "import re\n",
    "\n",
    "content = 'Hello 123 4567 World_This is a Regex Demo'\n",
    "print(len(content))\n",
    "result = re.match('^Hello\\s\\d\\d\\d\\s\\d{4}\\s\\w{10}',content)\n",
    "print(result)\n",
    "print(result.group())\n",
    "print(result.span())"
   ]
  },
  {
   "cell_type": "code",
   "execution_count": 5,
   "metadata": {},
   "outputs": [
    {
     "name": "stdout",
     "output_type": "stream",
     "text": [
      "<re.Match object; span=(0, 19), match='Hello 1234567 World'>\n",
      "Hello 1234567 World\n",
      "1234567\n",
      "(0, 19)\n"
     ]
    }
   ],
   "source": [
    "#group 方法\n",
    "\n",
    "content = 'Hello 1234567 World_This is a Regex Demo'\n",
    "result = re.match('^Hello\\s(\\d+)\\sWorld',content)\n",
    "print(result)\n",
    "print(result.group())\n",
    "print(result.group(1))\n",
    "print(result.span())"
   ]
  },
  {
   "cell_type": "code",
   "execution_count": 6,
   "metadata": {},
   "outputs": [
    {
     "name": "stdout",
     "output_type": "stream",
     "text": [
      "Hello 123 4567 World_This is a Regex Demo\n",
      "(0, 41)\n"
     ]
    }
   ],
   "source": [
    " #通用匹配\n",
    "    \n",
    "import re\n",
    "\n",
    "content = 'Hello 123 4567 World_This is a Regex Demo'\n",
    "result = re.match('^Hello.*Demo$',content)\n",
    "print(result.group())\n",
    "print(result.span())"
   ]
  },
  {
   "cell_type": "code",
   "execution_count": 12,
   "metadata": {},
   "outputs": [
    {
     "name": "stdout",
     "output_type": "stream",
     "text": [
      "<re.Match object; span=(0, 40), match='Hello 1234567 World_This is a Regex Demo'>\n",
      "7\n",
      "<re.Match object; span=(0, 40), match='Hello 1234567 World_This is a Regex Demo'>\n",
      "1234567\n",
      "result1 \n",
      "result2 kEraCN\n"
     ]
    }
   ],
   "source": [
    "#贪婪与非贪婪\n",
    "\n",
    "content = 'Hello 1234567 World_This is a Regex Demo'\n",
    "result = re.match('^He.*(\\d+).*Demo$',content)\n",
    "print(result)\n",
    "print(result.group(1))\n",
    "\n",
    "result1 = re.match('^He.*?(\\d+).*Demo$',content)\n",
    "print(result1)\n",
    "print(result1.group(1))\n",
    "\n",
    "content1 = 'http://weibo.com/comment/kEraCN'\n",
    "result2 = re.match('http.*?comment/(.*?)',content1)\n",
    "result3 = re.match('http.*?comment/(.*)',content1)\n",
    "print('result1',result2.group(1))\n",
    "print('result2',result3.group(1))"
   ]
  },
  {
   "cell_type": "code",
   "execution_count": 15,
   "metadata": {},
   "outputs": [
    {
     "name": "stdout",
     "output_type": "stream",
     "text": [
      "<re.Match object; span=(0, 40), match='Hello 1234567 World_This\\nis a Regex Demo'>\n"
     ]
    }
   ],
   "source": [
    "#修饰符\n",
    "\n",
    "content = '''Hello 1234567 World_This\n",
    "is a Regex Demo\n",
    "'''\n",
    "result = re.match('^He.*?(\\d+).*?Demo$',content,re.S)\n",
    "print(result)"
   ]
  },
  {
   "cell_type": "code",
   "execution_count": 16,
   "metadata": {},
   "outputs": [
    {
     "name": "stdout",
     "output_type": "stream",
     "text": [
      "<re.Match object; span=(0, 17), match='(百度)www.baidu.com'>\n"
     ]
    }
   ],
   "source": [
    "#转义匹配\n",
    "\n",
    "content = '(百度)www.baidu.com'\n",
    "result = re.match('\\(百度\\)www\\.baidu\\.com',content)\n",
    "print(result)"
   ]
  },
  {
   "cell_type": "code",
   "execution_count": 24,
   "metadata": {},
   "outputs": [
    {
     "name": "stdout",
     "output_type": "stream",
     "text": [
      "None\n",
      "<re.Match object; span=(13, 53), match='Hello 1234567 World_This is a Regex Demo'>\n",
      "齐秦 往事随风\n",
      "任贤齐 沧海一声笑\n",
      "beyond 光辉岁月\n"
     ]
    }
   ],
   "source": [
    "#search\n",
    "\n",
    "content = 'Extra stings Hello 1234567 World_This is a Regex Demo Extra stings'\n",
    "html = '''<div id=\"songs-list\">\n",
    "<h2 class=\"title\">经典老歌</h2>\n",
    "</p>\n",
    "<ul id=\"list\" class=\"list-group\">\n",
    "<li data-view=\"2\">一路上有你</li>\n",
    "<li data-view=\"7\">\n",
    "<a href=\"/2.mp3\" singer=\"任贤齐\">沧海一声笑</a>\n",
    "</li>\n",
    "<li data-view=\"4\" class=\"active\">\n",
    "<a href=\"/3.mp3\" singer=\"齐秦\">往事随风</a>\n",
    "</li>\n",
    "<li data-view=\"6\"><a href=\"/4.mp3\" singer=\"beyond\">光辉岁月</a></li>\n",
    "<li data-view=\"5\"><a href=\"/5.mp3\" singer=\"陈慧琳\">记事本</a></li>\n",
    "<li data-view=\"5\">\n",
    "<a href=\"/6.mp3\" singer=\"邓丽君\">但愿人长久</a>\n",
    "</li>\n",
    "</ul>\n",
    "</div>'''\n",
    "\n",
    "result = re.match('Hello.*?(\\d+).*?Demo', content)\n",
    "print(result)\n",
    "\n",
    "result1 = re.search('Hello.*?(\\d+).*?Demo',content)\n",
    "print(result1)\n",
    "\n",
    "result2 = re.search('<li.*?active.*?singer=\"(.*?)\">(.*?)</a>',html,re.S)\n",
    "if result2:\n",
    "    print(result2.group(1),result2.group(2))\n",
    "    \n",
    "result3 = re.search('<li.*?singer=\"(.*?)\">(.*?)</a>',html,re.S)\n",
    "if result3:\n",
    "    print(result3.group(1),result3.group(2))\n",
    "result4 = re.search('<li.*?singer=\"(.*?)\">(.*?)</a>',html)\n",
    "if result4:\n",
    "    print(result4.group(1),result4.group(2))\n"
   ]
  },
  {
   "cell_type": "code",
   "execution_count": 27,
   "metadata": {},
   "outputs": [
    {
     "name": "stdout",
     "output_type": "stream",
     "text": [
      "[('/2.mp3', '任贤齐', '沧海一声笑'), ('/3.mp3', '齐秦', '往事随风'), ('/4.mp3', 'beyond', '光辉岁月'), ('/5.mp3', '陈慧琳', '记事本'), ('/6.mp3', '邓丽君', '但愿人长久')]\n"
     ]
    }
   ],
   "source": [
    "#findall\n",
    "\n",
    "results = re.findall('<li.*?href=\"(.*?)\".*?singer=\"(.*?)\">(.*?)</a>',html,re.S)\n",
    "print(results)"
   ]
  },
  {
   "cell_type": "code",
   "execution_count": 33,
   "metadata": {},
   "outputs": [
    {
     "name": "stdout",
     "output_type": "stream",
     "text": [
      "aKyroiRixLg\n",
      "一路上有你\n",
      "沧海一声笑\n",
      "往事随风\n",
      "光辉岁月\n",
      "记事本\n",
      "但愿人长久\n",
      "<div id=\"songs-list\">\n",
      "<h2 class=\"title\">经典老歌</h2>\n",
      "</p>\n",
      "<ul id=\"list\" class=\"list-group\">\n",
      "<li data-view=\"2\">一路上有你</li>\n",
      "<li data-view=\"7\">\n",
      "沧海一声笑\n",
      "</li>\n",
      "<li data-view=\"4\" class=\"active\">\n",
      "往事随风\n",
      "</li>\n",
      "<li data-view=\"6\">光辉岁月</li>\n",
      "<li data-view=\"5\">记事本</li>\n",
      "<li data-view=\"5\">\n",
      "但愿人长久\n",
      "</li>\n",
      "</ul>\n",
      "</div>\n",
      "一路上有你\n",
      "沧海一声笑\n",
      "往事随风\n",
      "光辉岁月\n",
      "记事本\n",
      "但愿人长久\n"
     ]
    }
   ],
   "source": [
    "#sub\n",
    "\n",
    "content = '54aK54yr5oiR54ix5L2g'\n",
    "content = re.sub('\\d+','',content)\n",
    "print(content)\n",
    "\n",
    "results = re.findall('<li.*?>\\s*?(<a.*?>)?(\\w+)(</a>)?\\s*?</li>',html,re.S)\n",
    "for result in results:\n",
    "    print(result[1])\n",
    "    \n",
    "html = re.sub('<a.*?>|</a>','',html)\n",
    "print(html)\n",
    "results = re.findall('<li.*?>(.*?)</li>',html,re.S)\n",
    "for result in results:\n",
    "    print(result.strip())"
   ]
  },
  {
   "cell_type": "code",
   "execution_count": 34,
   "metadata": {},
   "outputs": [
    {
     "name": "stdout",
     "output_type": "stream",
     "text": [
      "2016-12-15  2016-12-17  2016-12-22 \n"
     ]
    }
   ],
   "source": [
    "#compile\n",
    "\n",
    "content1 = '2016-12-15 12:00'\n",
    "content2 = '2016-12-17 12:55'\n",
    "content3 = '2016-12-22 13:21'\n",
    "pattern = re.compile('\\d{2}:\\d{2}')\n",
    "result1 = re.sub(pattern,'',content1)\n",
    "result2 = re.sub(pattern,'',content2)\n",
    "result3 = re.sub(pattern,'',content3)\n",
    "print(result1,result2,result3)"
   ]
  },
  {
   "cell_type": "code",
   "execution_count": null,
   "metadata": {},
   "outputs": [],
   "source": []
  }
 ],
 "metadata": {
  "kernelspec": {
   "display_name": "Python 3",
   "language": "python",
   "name": "python3"
  },
  "language_info": {
   "codemirror_mode": {
    "name": "ipython",
    "version": 3
   },
   "file_extension": ".py",
   "mimetype": "text/x-python",
   "name": "python",
   "nbconvert_exporter": "python",
   "pygments_lexer": "ipython3",
   "version": "3.8.3"
  }
 },
 "nbformat": 4,
 "nbformat_minor": 4
}
